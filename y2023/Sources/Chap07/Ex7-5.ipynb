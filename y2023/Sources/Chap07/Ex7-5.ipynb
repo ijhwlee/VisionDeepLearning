{
 "cells": [
  {
   "cell_type": "code",
   "execution_count": null,
   "id": "912385cb",
   "metadata": {},
   "outputs": [
    {
     "name": "stderr",
     "output_type": "stream",
     "text": [
      "c:\\python39\\lib\\site-packages\\requests\\__init__.py:102: RequestsDependencyWarning: urllib3 (1.26.6) or chardet (5.1.0)/charset_normalizer (2.0.4) doesn't match a supported version!\n",
      "  warnings.warn(\"urllib3 ({}) or chardet ({})/charset_normalizer ({}) doesn't match a supported \"\n"
     ]
    },
    {
     "name": "stdout",
     "output_type": "stream",
     "text": [
      "Epoch 1/50\n",
      "469/469 - 9s - loss: 0.3990 - accuracy: 0.8999 - val_loss: 0.1725 - val_accuracy: 0.9499 - 9s/epoch - 20ms/step\n",
      "Epoch 2/50\n",
      "469/469 - 8s - loss: 0.1435 - accuracy: 0.9585 - val_loss: 0.1241 - val_accuracy: 0.9615 - 8s/epoch - 18ms/step\n",
      "Epoch 3/50\n",
      "469/469 - 8s - loss: 0.0976 - accuracy: 0.9719 - val_loss: 0.0914 - val_accuracy: 0.9716 - 8s/epoch - 18ms/step\n",
      "Epoch 4/50\n",
      "469/469 - 9s - loss: 0.0717 - accuracy: 0.9786 - val_loss: 0.0855 - val_accuracy: 0.9751 - 9s/epoch - 18ms/step\n",
      "Epoch 5/50\n",
      "469/469 - 8s - loss: 0.0524 - accuracy: 0.9850 - val_loss: 0.0749 - val_accuracy: 0.9752 - 8s/epoch - 18ms/step\n",
      "Epoch 6/50\n",
      "469/469 - 8s - loss: 0.0406 - accuracy: 0.9890 - val_loss: 0.0732 - val_accuracy: 0.9771 - 8s/epoch - 18ms/step\n",
      "Epoch 7/50\n",
      "469/469 - 8s - loss: 0.0316 - accuracy: 0.9914 - val_loss: 0.0638 - val_accuracy: 0.9794 - 8s/epoch - 18ms/step\n",
      "Epoch 8/50\n",
      "469/469 - 8s - loss: 0.0241 - accuracy: 0.9934 - val_loss: 0.0685 - val_accuracy: 0.9775 - 8s/epoch - 18ms/step\n",
      "Epoch 9/50\n"
     ]
    }
   ],
   "source": [
    "import numpy as np\n",
    "import tensorflow as tf\n",
    "import tensorflow.keras.datasets as ds\n",
    "\n",
    "from tensorflow.keras.models import Sequential\n",
    "from tensorflow.keras.layers import Dense\n",
    "from tensorflow.keras.optimizers import Adam\n",
    "\n",
    "(x_train,y_train),(x_test,y_test)=ds.mnist.load_data()\n",
    "x_train=x_train.reshape(60000,784)\n",
    "x_test=x_test.reshape(10000,784)\n",
    "x_train=x_train.astype(np.float32)/255.0\n",
    "x_test=x_test.astype(np.float32)/255.0\n",
    "y_train=tf.keras.utils.to_categorical(y_train,10)\n",
    "y_test=tf.keras.utils.to_categorical(y_test,10)\n",
    "\n",
    "dmlp=Sequential()\n",
    "dmlp.add(Dense(units=1024,activation='relu',input_shape=(784,)))\n",
    "dmlp.add(Dense(units=512,activation='relu'))\n",
    "dmlp.add(Dense(units=512,activation='relu'))\n",
    "dmlp.add(Dense(units=10,activation='softmax'))\n",
    "\n",
    "dmlp.compile(loss='categorical_crossentropy',optimizer=Adam(learning_rate=0.0001),metrics=['accuracy'])\n",
    "hist=dmlp.fit(x_train,y_train,batch_size=128,epochs=50,validation_data=(x_test,y_test),verbose=2)\n",
    "print('정확률=', dmlp.evaluate(x_test,y_test,verbose=0)[1]*100)\n",
    "\n",
    "dmlp.save('dmlp_trained.h5')\n",
    "\n",
    "import matplotlib.pyplot as plt\n",
    "\n",
    "plt.plot(hist.history['accuracy'])\n",
    "plt.plot(hist.history['val_accuracy'])\n",
    "plt.title('Accuracy graph')\n",
    "plt.xlabel('epochs')\n",
    "plt.ylabel('accuracy')\n",
    "plt.legend(['train','test'])\n",
    "plt.grid()\n",
    "plt.show()\n",
    "\n",
    "plt.plot(hist.history['loss'])\n",
    "plt.plot(hist.history['val_loss'])\n",
    "plt.title('Loss graph')\n",
    "plt.xlabel('epochs')\n",
    "plt.ylabel('loss')\n",
    "plt.legend(['train','test'])\n",
    "plt.grid()\n",
    "plt.show()"
   ]
  },
  {
   "cell_type": "code",
   "execution_count": null,
   "id": "3cd7fe9c",
   "metadata": {},
   "outputs": [],
   "source": []
  }
 ],
 "metadata": {
  "kernelspec": {
   "display_name": "opencv",
   "language": "python",
   "name": "opencv"
  },
  "language_info": {
   "codemirror_mode": {
    "name": "ipython",
    "version": 3
   },
   "file_extension": ".py",
   "mimetype": "text/x-python",
   "name": "python",
   "nbconvert_exporter": "python",
   "pygments_lexer": "ipython3",
   "version": "3.9.7"
  }
 },
 "nbformat": 4,
 "nbformat_minor": 5
}
