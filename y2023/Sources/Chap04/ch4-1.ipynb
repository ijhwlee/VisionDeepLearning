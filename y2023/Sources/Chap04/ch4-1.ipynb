{
 "cells": [
  {
   "cell_type": "code",
   "execution_count": 1,
   "id": "b6871d4f",
   "metadata": {},
   "outputs": [],
   "source": [
    "import cv2 as cv"
   ]
  },
  {
   "cell_type": "code",
   "execution_count": 2,
   "id": "ebc35a35",
   "metadata": {},
   "outputs": [],
   "source": [
    "img=cv.imread('soccer.jpg')\n",
    "gray=cv.cvtColor(img,cv.COLOR_BGR2GRAY)\n",
    "\n",
    "grad_x=cv.Sobel(gray,cv.CV_32F,1,0,ksize=3)\t# 소벨 연산자 적용\n",
    "grad_y=cv.Sobel(gray,cv.CV_32F,0,1,ksize=3)\n",
    "\n",
    "sobel_x=cv.convertScaleAbs(grad_x)\t# 절대값을 취해 양수 영상으로 변환\n",
    "sobel_y=cv.convertScaleAbs(grad_y)\n",
    "\n",
    "edge_strength=cv.addWeighted(sobel_x,0.5,sobel_y,0.5,0)\t# 에지 강도 계산"
   ]
  },
  {
   "cell_type": "code",
   "execution_count": 3,
   "id": "78b3a544",
   "metadata": {},
   "outputs": [],
   "source": [
    "cv.imshow('Original',gray)\n",
    "cv.imshow('sobelx',sobel_x)\n",
    "cv.imshow('sobely',sobel_y)\n",
    "cv.imshow('edge strength',edge_strength)\n",
    "\n",
    "cv.waitKey()\n",
    "cv.destroyAllWindows()"
   ]
  },
  {
   "cell_type": "code",
   "execution_count": null,
   "id": "e794ae64",
   "metadata": {},
   "outputs": [],
   "source": []
  }
 ],
 "metadata": {
  "kernelspec": {
   "display_name": "cv",
   "language": "python",
   "name": "cv"
  },
  "language_info": {
   "codemirror_mode": {
    "name": "ipython",
    "version": 3
   },
   "file_extension": ".py",
   "mimetype": "text/x-python",
   "name": "python",
   "nbconvert_exporter": "python",
   "pygments_lexer": "ipython3",
   "version": "3.10.9"
  }
 },
 "nbformat": 4,
 "nbformat_minor": 5
}
