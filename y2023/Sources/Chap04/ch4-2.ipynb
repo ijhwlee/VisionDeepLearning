{
 "cells": [
  {
   "cell_type": "code",
   "execution_count": 1,
   "id": "bebe5fe9",
   "metadata": {},
   "outputs": [],
   "source": [
    "import cv2 as cv"
   ]
  },
  {
   "cell_type": "code",
   "execution_count": 2,
   "id": "c561a9b2",
   "metadata": {},
   "outputs": [],
   "source": [
    "img=cv.imread('soccer.jpg')\t# 영상 읽기\n",
    "\n",
    "gray=cv.cvtColor(img,cv.COLOR_BGR2GRAY)\n",
    "\n",
    "canny1=cv.Canny(gray,50,150)\t# Tlow=50, Thigh=150으로 설정\n",
    "canny2=cv.Canny(gray,100,200)\t# Tlow=100, Thigh=200으로 설정"
   ]
  },
  {
   "cell_type": "code",
   "execution_count": 3,
   "id": "a70ab871",
   "metadata": {},
   "outputs": [],
   "source": [
    "cv.imshow('Original',gray)\n",
    "cv.imshow('Canny1',canny1)\n",
    "cv.imshow('Canny2',canny2)\n",
    "\n",
    "cv.waitKey()\n",
    "cv.destroyAllWindows()"
   ]
  },
  {
   "cell_type": "code",
   "execution_count": null,
   "id": "a43fd600",
   "metadata": {},
   "outputs": [],
   "source": []
  }
 ],
 "metadata": {
  "kernelspec": {
   "display_name": "cv",
   "language": "python",
   "name": "cv"
  },
  "language_info": {
   "codemirror_mode": {
    "name": "ipython",
    "version": 3
   },
   "file_extension": ".py",
   "mimetype": "text/x-python",
   "name": "python",
   "nbconvert_exporter": "python",
   "pygments_lexer": "ipython3",
   "version": "3.10.9"
  }
 },
 "nbformat": 4,
 "nbformat_minor": 5
}
